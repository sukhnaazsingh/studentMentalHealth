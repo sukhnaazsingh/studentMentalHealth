{
 "cells": [
  {
   "cell_type": "code",
   "execution_count": 2,
   "id": "initial_id",
   "metadata": {
    "ExecuteTime": {
     "end_time": "2024-06-02T13:23:57.177409Z",
     "start_time": "2024-06-02T13:23:56.966367Z"
    }
   },
   "outputs": [],
   "source": [
    "import pandas as pd\n",
    "import matplotlib.pyplot as plt\n",
    "from sqlalchemy import create_engine\n",
    "import seaborn as sns\n",
    "from scipy.stats import pearsonr\n",
    "import scipy.stats as stats\n",
    "\n",
    "# Database connection details\n",
    "DB_NAME = \"student_mental_health\"\n",
    "DB_USER = \"postgres\"\n",
    "DB_PASSWORD = \"postgres\"\n",
    "DB_HOST = \"localhost\"\n",
    "DB_PORT = \"5432\"\n",
    "\n",
    "# Create database engine\n",
    "engine = create_engine(f'postgresql://{DB_USER}:{DB_PASSWORD}@{DB_HOST}:{DB_PORT}/{DB_NAME}')\n",
    "\n",
    "# Query to load data from the table\n",
    "query = \"SELECT * FROM student_mental_health\"\n",
    "\n",
    "# Load data into pandas DataFrame\n",
    "df = pd.read_sql(query, engine)"
   ]
  },
  {
   "cell_type": "code",
   "execution_count": 3,
   "id": "48750d070bcc4963",
   "metadata": {
    "ExecuteTime": {
     "end_time": "2024-06-02T13:23:58.124858Z",
     "start_time": "2024-06-02T13:23:58.115317Z"
    }
   },
   "outputs": [
    {
     "name": "stdout",
     "output_type": "stream",
     "text": [
      "        Timestamp Choose your gender   Age What is your course?  \\\n",
      "0  8/7/2020 12:02             Female  18.0          Engineering   \n",
      "1  8/7/2020 12:04               Male  21.0    Islamic education   \n",
      "2  8/7/2020 12:05               Male  19.0                  BIT   \n",
      "3  8/7/2020 12:06             Female  22.0                 Laws   \n",
      "4  8/7/2020 12:13               Male  23.0         Mathemathics   \n",
      "\n",
      "  Your current year of Study What is your CGPA? Marital status  \\\n",
      "0                     year 1        3.00 - 3.49             No   \n",
      "1                     year 2        3.00 - 3.49             No   \n",
      "2                     Year 1        3.00 - 3.49             No   \n",
      "3                     year 3        3.00 - 3.49            Yes   \n",
      "4                     year 4        3.00 - 3.49             No   \n",
      "\n",
      "  Do you have Depression? Do you have Anxiety? Do you have Panic attack?  \\\n",
      "0                     Yes                   No                       Yes   \n",
      "1                      No                  Yes                        No   \n",
      "2                     Yes                  Yes                       Yes   \n",
      "3                     Yes                   No                        No   \n",
      "4                      No                   No                        No   \n",
      "\n",
      "  Did you seek any specialist for a treatment?  \n",
      "0                                           No  \n",
      "1                                           No  \n",
      "2                                           No  \n",
      "3                                           No  \n",
      "4                                           No  \n",
      "             Age\n",
      "count  100.00000\n",
      "mean    20.53000\n",
      "std      2.49628\n",
      "min     18.00000\n",
      "25%     18.00000\n",
      "50%     19.00000\n",
      "75%     23.00000\n",
      "max     24.00000\n",
      "Timestamp                                       0\n",
      "Choose your gender                              0\n",
      "Age                                             1\n",
      "What is your course?                            0\n",
      "Your current year of Study                      0\n",
      "What is your CGPA?                              0\n",
      "Marital status                                  0\n",
      "Do you have Depression?                         0\n",
      "Do you have Anxiety?                            0\n",
      "Do you have Panic attack?                       0\n",
      "Did you seek any specialist for a treatment?    0\n",
      "dtype: int64\n",
      "Timestamp                                       0\n",
      "Choose your gender                              0\n",
      "Age                                             0\n",
      "What is your course?                            0\n",
      "Your current year of Study                      0\n",
      "What is your CGPA?                              0\n",
      "Marital status                                  0\n",
      "Do you have Depression?                         0\n",
      "Do you have Anxiety?                            0\n",
      "Do you have Panic attack?                       0\n",
      "Did you seek any specialist for a treatment?    0\n",
      "dtype: int64\n"
     ]
    }
   ],
   "source": [
    "print(df.head())\n",
    "\n",
    "print(df.describe())\n",
    "\n",
    "print(df.isnull().sum())\n",
    "\n",
    "df = df.dropna(how='any', axis=0)\n",
    "\n",
    "print(df.isnull().sum())"
   ]
  },
  {
   "cell_type": "code",
   "execution_count": 4,
   "id": "d7384cce",
   "metadata": {},
   "outputs": [
    {
     "name": "stdout",
     "output_type": "stream",
     "text": [
      "<class 'pandas.core.frame.DataFrame'>\n",
      "Index: 100 entries, 0 to 100\n",
      "Data columns (total 11 columns):\n",
      " #   Column                             Non-Null Count  Dtype  \n",
      "---  ------                             --------------  -----  \n",
      " 0   Timestamp                          100 non-null    object \n",
      " 1   gender                             100 non-null    object \n",
      " 2   age                                100 non-null    float64\n",
      " 3   course                             100 non-null    object \n",
      " 4   year                               100 non-null    object \n",
      " 5   cgpa                               100 non-null    object \n",
      " 6   marital_status                     100 non-null    object \n",
      " 7   depression                         100 non-null    object \n",
      " 8   anxiety                            100 non-null    object \n",
      " 9   panic_attack                       100 non-null    object \n",
      " 10  seek_any_specialist_for_treatment  100 non-null    object \n",
      "dtypes: float64(1), object(10)\n",
      "memory usage: 9.4+ KB\n",
      "None\n"
     ]
    }
   ],
   "source": [
    "# Renaiming columns\n",
    "df.rename(columns = {'Choose your gender': 'gender',\n",
    "                     'What is your course?': 'course', \n",
    "                     'Your current year of Study': 'year',\n",
    "                     'Age': 'age',\n",
    "                     'What is your CGPA?': 'cgpa', \n",
    "                     'Marital status': 'marital_status', \n",
    "                     'Do you have Depression?': 'depression', \n",
    "                     'Do you have Anxiety?': 'anxiety',\n",
    "                     'Do you have Panic attack?': 'panic_attack', \n",
    "                     'Did you seek any specialist for a treatment?': 'seek_any_specialist_for_treatment'}, \n",
    "          inplace=True) \n",
    "print( df.info() )"
   ]
  },
  {
   "cell_type": "code",
   "execution_count": 5,
   "id": "d7113b7b8532fdec",
   "metadata": {
    "ExecuteTime": {
     "end_time": "2024-06-02T13:23:58.745043Z",
     "start_time": "2024-06-02T13:23:58.740550Z"
    }
   },
   "outputs": [],
   "source": [
    "\n",
    "df['year'] = df['year'].str.lower().str.capitalize()\n",
    "years_of_study = df['year'].unique()\n",
    "genders = df['gender'].unique()\n"
   ]
  },
  {
   "cell_type": "code",
   "execution_count": null,
   "id": "585285b434034e4a",
   "metadata": {
    "ExecuteTime": {
     "end_time": "2024-06-02T13:23:59.091735Z",
     "start_time": "2024-06-02T13:23:59.087789Z"
    }
   },
   "outputs": [],
   "source": [
    "df['CGPA_gender'] = df['cgpa'].apply(\n",
    "    lambda x: (float(x.split('-')[0].strip()) + float(x.split('-')[1].strip())) / 2)\n",
    "\n",
    "# Change the type of the column to float\n",
    "df['CGPA_gender'] = df['CGPA_gender'].astype(float)\n",
    "\n",
    "print( df.info() )"
   ]
  },
  {
   "cell_type": "code",
   "execution_count": 7,
   "id": "aff66b9614e2099",
   "metadata": {
    "ExecuteTime": {
     "end_time": "2024-06-02T13:23:59.455847Z",
     "start_time": "2024-06-02T13:23:59.451348Z"
    }
   },
   "outputs": [],
   "source": [
    "total_students = len(df)\n",
    "anxiety_count = len(df[df['anxiety'] == 'Yes'])\n",
    "depression_count = len(df[df['depression'] == 'Yes'])\n",
    "both_count = len(df[(df['anxiety'] == 'Yes') & (df['depression'] == 'Yes')])\n",
    "\n",
    "anxiety_count_percentage = (anxiety_count / total_students) * 100\n",
    "depression_count_percentage = (depression_count / total_students) * 100\n",
    "both_count_percentage = (both_count / total_students) * 100"
   ]
  },
  {
   "cell_type": "code",
   "execution_count": null,
   "id": "11f9c4de4e864db5",
   "metadata": {
    "ExecuteTime": {
     "end_time": "2024-06-02T13:23:59.775331Z",
     "start_time": "2024-06-02T13:23:59.765790Z"
    }
   },
   "outputs": [],
   "source": [
    "avg_cgpa = []\n",
    "\n",
    "for year in years_of_study:\n",
    "    year_data = {'year': year}\n",
    "    for gender in genders:\n",
    "        gender_year_df = df[(df['year'] == year) & (df['gender'] == gender)]\n",
    "\n",
    "        if gender_year_df.empty:\n",
    "            print(f\"No data for {gender} students in year {year}\")\n",
    "            continue\n",
    "\n",
    "        avg_cgpa_value = gender_year_df['CGPA_gender'].mean()\n",
    "        year_data[f'{gender.lower()}_avg'] = float(\"{:.2f}\".format(avg_cgpa_value))\n",
    "        print(f\"Average CGPA for {gender} students: {avg_cgpa_value:.2f}\")\n",
    "\n",
    "    if 'female_avg' not in year_data:\n",
    "        year_data['female_avg'] = None\n",
    "    if 'male_avg' not in year_data:\n",
    "        year_data['male_avg'] = None\n",
    "\n",
    "    avg_cgpa.append(year_data)\n",
    "\n",
    "avg_cgpa"
   ]
  },
  {
   "cell_type": "code",
   "execution_count": null,
   "id": "dc04f3c215bbbf6b",
   "metadata": {
    "ExecuteTime": {
     "end_time": "2024-06-02T13:24:00.220538Z",
     "start_time": "2024-06-02T13:24:00.085531Z"
    }
   },
   "outputs": [],
   "source": [
    "plt.figure(figsize=(10, 10))\n",
    "plt.hist(df['age'], color='b')\n",
    "plt.title(\"Age distribution\");"
   ]
  },
  {
   "cell_type": "code",
   "execution_count": null,
   "id": "dddd8d2423d9e503",
   "metadata": {
    "ExecuteTime": {
     "end_time": "2024-06-02T13:24:00.481911Z",
     "start_time": "2024-06-02T13:24:00.404899Z"
    }
   },
   "outputs": [],
   "source": [
    "plt.figure(figsize=(12, 6))\n",
    "plt.title(\"gender distribution\")\n",
    "g = plt.pie(df.gender.value_counts(), explode=(0.025, 0.025), labels=df.gender.value_counts().index,\n",
    "            colors=['skyblue', 'navajowhite'], autopct='%1.1f%%', startangle=180);\n",
    "plt.legend()\n",
    "plt.show()"
   ]
  },
  {
   "cell_type": "code",
   "execution_count": null,
   "id": "3544fd2253554823",
   "metadata": {
    "ExecuteTime": {
     "end_time": "2024-06-02T13:24:00.728130Z",
     "start_time": "2024-06-02T13:24:00.722432Z"
    }
   },
   "outputs": [],
   "source": [
    "df['gender']"
   ]
  },
  {
   "cell_type": "code",
   "execution_count": null,
   "id": "cd7c0b54dd2ec89",
   "metadata": {
    "ExecuteTime": {
     "end_time": "2024-06-02T13:24:01.253892Z",
     "start_time": "2024-06-02T13:24:01.089037Z"
    }
   },
   "outputs": [],
   "source": [
    "plt.figure(figsize=(10, 10))\n",
    "sns.countplot(data=df, x='year', hue='gender')\n",
    "plt.title(\"Students studyig in particular year\");"
   ]
  },
  {
   "cell_type": "code",
   "execution_count": null,
   "id": "32f82c10b1cd8d1b",
   "metadata": {
    "ExecuteTime": {
     "end_time": "2024-06-02T13:24:01.559012Z",
     "start_time": "2024-06-02T13:24:01.432829Z"
    }
   },
   "outputs": [],
   "source": [
    "plt.figure(figsize=(10, 10))\n",
    "sns.countplot(data=df, x='anxiety', hue='depression')\n",
    "plt.title(\"Students studyig in particular year\");\n",
    "plt.show()"
   ]
  },
  {
   "cell_type": "code",
   "execution_count": null,
   "id": "349767b900a5ecfb",
   "metadata": {
    "ExecuteTime": {
     "end_time": "2024-06-02T13:24:01.894945Z",
     "start_time": "2024-06-02T13:24:01.750090Z"
    }
   },
   "outputs": [],
   "source": [
    "plt.figure(figsize=(10, 10))\n",
    "sns.set_theme(style=\"darkgrid\")\n",
    "ax = sns.countplot(y=\"anxiety\", hue=\"gender\", data=df)\n",
    "plt.title(\"Anxiety by Gender\")\n",
    "plt.show()"
   ]
  },
  {
   "cell_type": "code",
   "execution_count": null,
   "id": "916813859b70234",
   "metadata": {
    "ExecuteTime": {
     "end_time": "2024-06-02T13:24:02.250924Z",
     "start_time": "2024-06-02T13:24:02.096687Z"
    }
   },
   "outputs": [],
   "source": [
    "plt.figure(figsize=(10, 10))\n",
    "sns.set_theme(style=\"darkgrid\")\n",
    "ax = sns.countplot(x=\"anxiety\", hue=\"year\", data=df)\n",
    "plt.title(\"Anxiety by study year\")\n",
    "plt.show()\n"
   ]
  },
  {
   "cell_type": "code",
   "execution_count": null,
   "id": "39fbe433-99eb-49f6-9979-e7108e4cb72d",
   "metadata": {
    "ExecuteTime": {
     "end_time": "2024-06-02T13:24:02.588726Z",
     "start_time": "2024-06-02T13:24:02.400151Z"
    }
   },
   "outputs": [],
   "source": [
    "plt.figure(figsize=(10, 10))\n",
    "sns.set_theme(style=\"darkgrid\")\n",
    "ax = sns.countplot(x=\"depression\", hue=\"year\", data=df)\n",
    "plt.title(\"Depression by study year\")\n",
    "plt.show()"
   ]
  },
  {
   "cell_type": "markdown",
   "id": "c5de3fd2",
   "metadata": {},
   "source": [
    "### P-Value Analysis\n",
    "###### We wanted to calculate a p-value between two columns but we only had the age column that is numeric.\n",
    "###### In order to create a second column that is numeric we took the 'What is your CGPA' Column and through a lambda function we calculated the mean value of the two string values\n",
    "###### After that we changed the 'What is your CGPA' to a float \n",
    "###### In the correlations analysis we compare the age and the cgpa of a student. The result is a very high p-value which indicates between this two variables there is no statistical significant correlation"
   ]
  },
  {
   "cell_type": "code",
   "execution_count": 11,
   "id": "958d37c7",
   "metadata": {
    "ExecuteTime": {
     "end_time": "2024-06-02T13:24:03.848274Z",
     "start_time": "2024-06-02T13:24:03.842367Z"
    }
   },
   "outputs": [
    {
     "name": "stdout",
     "output_type": "stream",
     "text": [
      "Correlation: 0.00561008761560407\n",
      "P-value: 0.955823000733376\n"
     ]
    }
   ],
   "source": [
    "# Calculate the mean value between the two values in the 'What is your CGPA?' column\n",
    "df['cgpa'] = df['cgpa'].apply(\n",
    "    lambda x: (float(x.split('-')[0].strip()) + float(x.split('-')[1].strip())) / 2)\n",
    "\n",
    "# Change the type of the column to float\n",
    "df['cgpa'] = df['cgpa'].astype(float)\n",
    "\n",
    "# Calculate the correlation and p-value\n",
    "correlation, p_value = pearsonr(df['age'], df['cgpa'])\n",
    "\n",
    "# Print the correlation and p-value\n",
    "print(\"Correlation:\", correlation)\n",
    "print(\"P-value:\", p_value)"
   ]
  },
  {
   "cell_type": "code",
   "execution_count": 12,
   "id": "662834f2",
   "metadata": {
    "ExecuteTime": {
     "end_time": "2024-06-02T13:24:04.406826Z",
     "start_time": "2024-06-02T13:24:04.399017Z"
    }
   },
   "outputs": [
    {
     "name": "stdout",
     "output_type": "stream",
     "text": [
      "Chi-square test results:\n",
      "Chi2: 6.142876731112027\n",
      "P-value: 0.013194249179498846\n",
      "Degrees of freedom: 1\n"
     ]
    }
   ],
   "source": [
    "# Statistical analysis: Chi-square test for independence between Anxiety and Depression\n",
    "contingency_table = pd.crosstab(df['anxiety'], df['depression'])\n",
    "chi2, p, dof, expected = stats.chi2_contingency(contingency_table)\n",
    "\n",
    "print(f\"Chi-square test results:\\nChi2: {chi2}\\nP-value: {p}\\nDegrees of freedom: {dof}\")"
   ]
  },
  {
   "cell_type": "code",
   "execution_count": 14,
   "id": "0dd81021",
   "metadata": {},
   "outputs": [
    {
     "name": "stdout",
     "output_type": "stream",
     "text": [
      "Korrelationskoeffizient (Angst vs. schwache CGPA): 0.32\n",
      "P-Wert: 0.4035\n",
      "Es gibt keinen statistisch signifikanten Zusammenhang.\n"
     ]
    }
   ],
   "source": [
    "df['angst_numeric'] = df['anxiety'].map({'Yes': 1, 'No': 0})\n",
    "df['depression_numeric'] = df['depression'].map({'Yes': 1, 'No': 0})\n",
    "\n",
    "# Filtere Zeilen mit CGPA < 3\n",
    "low_cgpa_df = df[df['cgpa'] < 3]\n",
    " \n",
    "# Berechne den Korrelationskoeffizienten\n",
    "correlation, p_value = pearsonr(low_cgpa_df['angst_numeric'], low_cgpa_df['cgpa'])\n",
    " \n",
    "print(f\"Korrelationskoeffizient (Angst vs. schwache CGPA): {correlation:.2f}\")\n",
    "print(f\"P-Wert: {p_value:.4f}\")\n",
    " \n",
    "# Interpretation\n",
    "if p_value < 0.05:\n",
    "    print(\"Der Zusammenhang ist statistisch signifikant.\")\n",
    "else:\n",
    "    print(\"Es gibt keinen statistisch signifikanten Zusammenhang.\")"
   ]
  },
  {
   "cell_type": "code",
   "execution_count": 15,
   "id": "737df9d3",
   "metadata": {},
   "outputs": [
    {
     "name": "stdout",
     "output_type": "stream",
     "text": [
      "Korrelationskoeffizient (Depression vs. schwache CGPA): 0.64\n",
      "P-Wert: 0.0650\n",
      "Es gibt keinen statistisch signifikanten Zusammenhang.\n"
     ]
    }
   ],
   "source": [
    "# Filtere Zeilen mit CGPA < 3\n",
    "low_cgpa_df = df[df['cgpa'] < 3]\n",
    " \n",
    "# Berechne den Korrelationskoeffizienten\n",
    "correlation, p_value = pearsonr(low_cgpa_df['depression_numeric'], low_cgpa_df['cgpa'])\n",
    " \n",
    "print(f\"Korrelationskoeffizient (Depression vs. schwache CGPA): {correlation:.2f}\")\n",
    "print(f\"P-Wert: {p_value:.4f}\")\n",
    " \n",
    "# Interpretation\n",
    "if p_value < 0.05:\n",
    "    print(\"Der Zusammenhang ist statistisch signifikant.\")\n",
    "else:\n",
    "    print(\"Es gibt keinen statistisch signifikanten Zusammenhang.\")"
   ]
  },
  {
   "cell_type": "code",
   "execution_count": 16,
   "id": "7758448b",
   "metadata": {},
   "outputs": [
    {
     "name": "stdout",
     "output_type": "stream",
     "text": [
      "Korrelationskoeffizient (Depression vs. starke CGPA): -0.18\n",
      "P-Wert: 0.0899\n",
      "Es gibt keinen statistisch signifikanten Zusammenhang.\n"
     ]
    }
   ],
   "source": [
    "high_cgpa_df = df[df['cgpa'] > 3]\n",
    " \n",
    "# Berechne den Korrelationskoeffizienten\n",
    "correlation, p_value = pearsonr(high_cgpa_df['depression_numeric'], high_cgpa_df['cgpa'])\n",
    " \n",
    "print(f\"Korrelationskoeffizient (Depression vs. starke CGPA): {correlation:.2f}\")\n",
    "print(f\"P-Wert: {p_value:.4f}\")\n",
    " \n",
    "# Interpretation\n",
    "if p_value < 0.05:\n",
    "    print(\"Der Zusammenhang ist statistisch signifikant.\")\n",
    "else:\n",
    "    print(\"Es gibt keinen statistisch signifikanten Zusammenhang.\")"
   ]
  },
  {
   "cell_type": "code",
   "execution_count": 17,
   "id": "900e3446",
   "metadata": {},
   "outputs": [
    {
     "name": "stdout",
     "output_type": "stream",
     "text": [
      "Korrelationskoeffizient (Angst vs. starke CGPA): 0.03\n",
      "P-Wert: 0.7982\n",
      "Es gibt keinen statistisch signifikanten Zusammenhang.\n"
     ]
    }
   ],
   "source": [
    " \n",
    "# Annahme: Du hast bereits einen DataFrame namens 'df' mit den relevanten Spalten\n",
    " \n",
    "# Filtere Zeilen mit CGPA > 3\n",
    " \n",
    "high_cgpa_df = df[df['cgpa'] > 3]\n",
    " \n",
    "# Berechne den Korrelationskoeffizienten\n",
    "correlation, p_value = pearsonr(high_cgpa_df['angst_numeric'], high_cgpa_df['cgpa'])\n",
    " \n",
    "print(f\"Korrelationskoeffizient (Angst vs. starke CGPA): {correlation:.2f}\")\n",
    "print(f\"P-Wert: {p_value:.4f}\")\n",
    " \n",
    "# Interpretation\n",
    "if p_value < 0.05:\n",
    "    print(\"Der Zusammenhang ist statistisch signifikant.\")\n",
    "else:\n",
    "    print(\"Es gibt keinen statistisch signifikanten Zusammenhang.\")"
   ]
  },
  {
   "cell_type": "code",
   "execution_count": 18,
   "id": "ca517885",
   "metadata": {},
   "outputs": [
    {
     "name": "stdout",
     "output_type": "stream",
     "text": [
      "Korrelationskoeffizient (Angst vs. CGPA): 0.16\n",
      "P-Wert: 0.1164\n",
      "Es gibt keinen statistisch signifikanten Zusammenhang.\n"
     ]
    }
   ],
   "source": [
    "# Berechne den Korrelationskoeffizienten\n",
    "correlation, p_value = pearsonr(df['angst_numeric'], df['cgpa'])\n",
    " \n",
    "print(f\"Korrelationskoeffizient (Angst vs. CGPA): {correlation:.2f}\")\n",
    "print(f\"P-Wert: {p_value:.4f}\")\n",
    " \n",
    "# Interpretation\n",
    "if p_value < 0.05:\n",
    "    print(\"Der Zusammenhang ist statistisch signifikant.\")\n",
    "else:\n",
    "    print(\"Es gibt keinen statistisch signifikanten Zusammenhang.\")"
   ]
  },
  {
   "cell_type": "code",
   "execution_count": 19,
   "id": "8ee51e1b",
   "metadata": {},
   "outputs": [
    {
     "name": "stdout",
     "output_type": "stream",
     "text": [
      "Korrelationskoeffizient (Angst vs. CGPA): 0.01\n",
      "P-Wert: 0.8942\n",
      "Es gibt keinen statistisch signifikanten Zusammenhang.\n"
     ]
    }
   ],
   "source": [
    "# Berechne den Korrelationskoeffizienten\n",
    "correlation, p_value = pearsonr(df['depression_numeric'], df['cgpa'])\n",
    " \n",
    "print(f\"Korrelationskoeffizient (Depression vs. CGPA): {correlation:.2f}\")\n",
    "print(f\"P-Wert: {p_value:.4f}\")\n",
    " \n",
    "# Interpretation\n",
    "if p_value < 0.05:\n",
    "    print(\"Der Zusammenhang ist statistisch signifikant.\")\n",
    "else:\n",
    "    print(\"Es gibt keinen statistisch signifikanten Zusammenhang.\")"
   ]
  }
 ],
 "metadata": {
  "kernelspec": {
   "display_name": "Python 3 (ipykernel)",
   "language": "python",
   "name": "python3"
  },
  "language_info": {
   "codemirror_mode": {
    "name": "ipython",
    "version": 3
   },
   "file_extension": ".py",
   "mimetype": "text/x-python",
   "name": "python",
   "nbconvert_exporter": "python",
   "pygments_lexer": "ipython3",
   "version": "3.10.14"
  }
 },
 "nbformat": 4,
 "nbformat_minor": 5
}
